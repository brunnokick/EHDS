{
 "metadata": {
  "language_info": {
   "codemirror_mode": {
    "name": "ipython",
    "version": 3
   },
   "file_extension": ".py",
   "mimetype": "text/x-python",
   "name": "python",
   "nbconvert_exporter": "python",
   "pygments_lexer": "ipython3",
   "version": "3.7.9-final"
  },
  "orig_nbformat": 2,
  "kernelspec": {
   "name": "python3",
   "display_name": "Python 3.7.9 64-bit",
   "metadata": {
    "interpreter": {
     "hash": "11788d199534453b3091baa8e21d49a7afe3aaf89a016b3a09f594b82a19522e"
    }
   }
  }
 },
 "nbformat": 4,
 "nbformat_minor": 2,
 "cells": [
  {
   "cell_type": "code",
   "execution_count": 1,
   "metadata": {},
   "outputs": [],
   "source": [
    "import os"
   ]
  },
  {
   "cell_type": "code",
   "execution_count": 2,
   "metadata": {},
   "outputs": [],
   "source": [
    "os.chdir('..')"
   ]
  },
  {
   "cell_type": "code",
   "execution_count": 3,
   "metadata": {},
   "outputs": [
    {
     "output_type": "execute_result",
     "data": {
      "text/plain": [
       "'x:\\\\Git\\\\EHDS'"
      ]
     },
     "metadata": {},
     "execution_count": 3
    }
   ],
   "source": [
    "pwd"
   ]
  },
  {
   "cell_type": "code",
   "execution_count": 11,
   "metadata": {},
   "outputs": [],
   "source": [
    "from packages.pre_process import PreProcessing"
   ]
  },
  {
   "cell_type": "code",
   "execution_count": 12,
   "metadata": {},
   "outputs": [
    {
     "output_type": "stream",
     "name": "stdout",
     "text": [
      "Unzipping..\n",
      "train_data_path: exoTrain.csv.zip\n",
      "train_data is unzipped in data\n",
      "train_data_path: exoTest.csv.zip\n",
      "train_data is unzipped in data\n"
     ]
    }
   ],
   "source": [
    "processing = PreProcessing()\n",
    "processing.run()"
   ]
  },
  {
   "cell_type": "code",
   "execution_count": 13,
   "metadata": {},
   "outputs": [],
   "source": [
    "from packages.model import ExoplanetClassier"
   ]
  },
  {
   "cell_type": "code",
   "execution_count": 14,
   "metadata": {},
   "outputs": [],
   "source": [
    "classifer = ExoplanetClassier()"
   ]
  },
  {
   "cell_type": "code",
   "execution_count": 15,
   "metadata": {},
   "outputs": [
    {
     "output_type": "stream",
     "name": "stdout",
     "text": [
      "Run full\n",
      "set_data\n",
      "done!\n",
      "set model\n",
      "fit\n",
      "predict\n",
      "print_metrics\n",
      "0.9842\n"
     ]
    }
   ],
   "source": [
    "classifer.run_full()"
   ]
  },
  {
   "cell_type": "code",
   "execution_count": 17,
   "metadata": {},
   "outputs": [
    {
     "output_type": "execute_result",
     "data": {
      "text/plain": [
       "      LABEL   FLUX.1   FLUX.2   FLUX.3   FLUX.4   FLUX.5   FLUX.6  FLUX.7  \\\n",
       "0         1    93.85    83.81    20.10   -26.98   -39.56  -124.71 -135.18   \n",
       "1         1   -38.88   -33.83   -58.54   -40.09   -79.31   -72.81  -86.55   \n",
       "2         1   532.64   535.92   513.73   496.92   456.45   466.00  464.50   \n",
       "3         1   326.52   347.39   302.35   298.13   317.74   312.70  322.33   \n",
       "4         1 -1107.21 -1112.59 -1118.95 -1095.10 -1057.55 -1034.48 -998.34   \n",
       "...     ...      ...      ...      ...      ...      ...      ...     ...   \n",
       "5082      0   -91.91   -92.97   -78.76   -97.33   -68.00   -68.24  -75.48   \n",
       "5083      0   989.75   891.01   908.53   851.83   755.11   615.78  595.77   \n",
       "5084      0   273.39   278.00   261.73   236.99   280.73   264.90  252.92   \n",
       "5085      0     3.82     2.09    -3.29    -2.88     1.66    -0.75    3.85   \n",
       "5086      0   323.28   306.36   293.16   287.67   249.89   218.30  188.86   \n",
       "\n",
       "       FLUX.8  FLUX.9  ...  FLUX.3188  FLUX.3189  FLUX.3190  FLUX.3191  \\\n",
       "0      -96.27  -79.89  ...     -78.07    -102.15    -102.15      25.13   \n",
       "1      -85.33  -83.97  ...      -3.28     -32.21     -32.21     -24.89   \n",
       "2      486.39  436.56  ...     -71.69      13.31      13.31     -29.89   \n",
       "3      311.31  312.42  ...       5.71      -3.73      -3.73      30.05   \n",
       "4    -1022.71 -989.57  ...    -594.37    -401.66    -401.66    -357.24   \n",
       "...       ...     ...  ...        ...        ...        ...        ...   \n",
       "5082   -49.25  -30.92  ...     139.95     147.26     156.95     155.64   \n",
       "5083   458.87  492.84  ...     -26.50      -4.84     -76.30     -37.84   \n",
       "5084   254.88  237.60  ...     -26.82     -53.89     -48.71      30.99   \n",
       "5085    -0.03    3.28  ...      10.86      -3.23      -5.10      -4.61   \n",
       "5086   178.93  118.93  ...      71.19       0.97      55.20      -1.63   \n",
       "\n",
       "      FLUX.3192  FLUX.3193  FLUX.3194  FLUX.3195  FLUX.3196  FLUX.3197  \n",
       "0         48.57      92.54      39.32      61.42       5.08     -39.54  \n",
       "1         -4.86       0.76     -11.70       6.46      16.00      19.93  \n",
       "2        -20.88       5.06     -11.80     -28.91     -70.02     -96.67  \n",
       "3         20.03     -12.67      -8.77     -17.31     -17.35      13.98  \n",
       "4       -443.76    -438.54    -399.71    -384.65    -411.79    -510.54  \n",
       "...         ...        ...        ...        ...        ...        ...  \n",
       "5082     156.36     151.75     -24.45     -17.00       3.23      19.28  \n",
       "5083    -153.83    -136.16      38.03     100.28     -45.64      35.58  \n",
       "5084      15.96      -3.47      65.73      88.42      79.07      79.43  \n",
       "5085      -9.82      -1.50      -4.65     -14.55      -6.41      -2.55  \n",
       "5086      -5.50     -25.33     -41.31     -16.72     -14.09      27.82  \n",
       "\n",
       "[5087 rows x 3198 columns]"
      ],
      "text/html": "<div>\n<style scoped>\n    .dataframe tbody tr th:only-of-type {\n        vertical-align: middle;\n    }\n\n    .dataframe tbody tr th {\n        vertical-align: top;\n    }\n\n    .dataframe thead th {\n        text-align: right;\n    }\n</style>\n<table border=\"1\" class=\"dataframe\">\n  <thead>\n    <tr style=\"text-align: right;\">\n      <th></th>\n      <th>LABEL</th>\n      <th>FLUX.1</th>\n      <th>FLUX.2</th>\n      <th>FLUX.3</th>\n      <th>FLUX.4</th>\n      <th>FLUX.5</th>\n      <th>FLUX.6</th>\n      <th>FLUX.7</th>\n      <th>FLUX.8</th>\n      <th>FLUX.9</th>\n      <th>...</th>\n      <th>FLUX.3188</th>\n      <th>FLUX.3189</th>\n      <th>FLUX.3190</th>\n      <th>FLUX.3191</th>\n      <th>FLUX.3192</th>\n      <th>FLUX.3193</th>\n      <th>FLUX.3194</th>\n      <th>FLUX.3195</th>\n      <th>FLUX.3196</th>\n      <th>FLUX.3197</th>\n    </tr>\n  </thead>\n  <tbody>\n    <tr>\n      <th>0</th>\n      <td>1</td>\n      <td>93.85</td>\n      <td>83.81</td>\n      <td>20.10</td>\n      <td>-26.98</td>\n      <td>-39.56</td>\n      <td>-124.71</td>\n      <td>-135.18</td>\n      <td>-96.27</td>\n      <td>-79.89</td>\n      <td>...</td>\n      <td>-78.07</td>\n      <td>-102.15</td>\n      <td>-102.15</td>\n      <td>25.13</td>\n      <td>48.57</td>\n      <td>92.54</td>\n      <td>39.32</td>\n      <td>61.42</td>\n      <td>5.08</td>\n      <td>-39.54</td>\n    </tr>\n    <tr>\n      <th>1</th>\n      <td>1</td>\n      <td>-38.88</td>\n      <td>-33.83</td>\n      <td>-58.54</td>\n      <td>-40.09</td>\n      <td>-79.31</td>\n      <td>-72.81</td>\n      <td>-86.55</td>\n      <td>-85.33</td>\n      <td>-83.97</td>\n      <td>...</td>\n      <td>-3.28</td>\n      <td>-32.21</td>\n      <td>-32.21</td>\n      <td>-24.89</td>\n      <td>-4.86</td>\n      <td>0.76</td>\n      <td>-11.70</td>\n      <td>6.46</td>\n      <td>16.00</td>\n      <td>19.93</td>\n    </tr>\n    <tr>\n      <th>2</th>\n      <td>1</td>\n      <td>532.64</td>\n      <td>535.92</td>\n      <td>513.73</td>\n      <td>496.92</td>\n      <td>456.45</td>\n      <td>466.00</td>\n      <td>464.50</td>\n      <td>486.39</td>\n      <td>436.56</td>\n      <td>...</td>\n      <td>-71.69</td>\n      <td>13.31</td>\n      <td>13.31</td>\n      <td>-29.89</td>\n      <td>-20.88</td>\n      <td>5.06</td>\n      <td>-11.80</td>\n      <td>-28.91</td>\n      <td>-70.02</td>\n      <td>-96.67</td>\n    </tr>\n    <tr>\n      <th>3</th>\n      <td>1</td>\n      <td>326.52</td>\n      <td>347.39</td>\n      <td>302.35</td>\n      <td>298.13</td>\n      <td>317.74</td>\n      <td>312.70</td>\n      <td>322.33</td>\n      <td>311.31</td>\n      <td>312.42</td>\n      <td>...</td>\n      <td>5.71</td>\n      <td>-3.73</td>\n      <td>-3.73</td>\n      <td>30.05</td>\n      <td>20.03</td>\n      <td>-12.67</td>\n      <td>-8.77</td>\n      <td>-17.31</td>\n      <td>-17.35</td>\n      <td>13.98</td>\n    </tr>\n    <tr>\n      <th>4</th>\n      <td>1</td>\n      <td>-1107.21</td>\n      <td>-1112.59</td>\n      <td>-1118.95</td>\n      <td>-1095.10</td>\n      <td>-1057.55</td>\n      <td>-1034.48</td>\n      <td>-998.34</td>\n      <td>-1022.71</td>\n      <td>-989.57</td>\n      <td>...</td>\n      <td>-594.37</td>\n      <td>-401.66</td>\n      <td>-401.66</td>\n      <td>-357.24</td>\n      <td>-443.76</td>\n      <td>-438.54</td>\n      <td>-399.71</td>\n      <td>-384.65</td>\n      <td>-411.79</td>\n      <td>-510.54</td>\n    </tr>\n    <tr>\n      <th>...</th>\n      <td>...</td>\n      <td>...</td>\n      <td>...</td>\n      <td>...</td>\n      <td>...</td>\n      <td>...</td>\n      <td>...</td>\n      <td>...</td>\n      <td>...</td>\n      <td>...</td>\n      <td>...</td>\n      <td>...</td>\n      <td>...</td>\n      <td>...</td>\n      <td>...</td>\n      <td>...</td>\n      <td>...</td>\n      <td>...</td>\n      <td>...</td>\n      <td>...</td>\n      <td>...</td>\n    </tr>\n    <tr>\n      <th>5082</th>\n      <td>0</td>\n      <td>-91.91</td>\n      <td>-92.97</td>\n      <td>-78.76</td>\n      <td>-97.33</td>\n      <td>-68.00</td>\n      <td>-68.24</td>\n      <td>-75.48</td>\n      <td>-49.25</td>\n      <td>-30.92</td>\n      <td>...</td>\n      <td>139.95</td>\n      <td>147.26</td>\n      <td>156.95</td>\n      <td>155.64</td>\n      <td>156.36</td>\n      <td>151.75</td>\n      <td>-24.45</td>\n      <td>-17.00</td>\n      <td>3.23</td>\n      <td>19.28</td>\n    </tr>\n    <tr>\n      <th>5083</th>\n      <td>0</td>\n      <td>989.75</td>\n      <td>891.01</td>\n      <td>908.53</td>\n      <td>851.83</td>\n      <td>755.11</td>\n      <td>615.78</td>\n      <td>595.77</td>\n      <td>458.87</td>\n      <td>492.84</td>\n      <td>...</td>\n      <td>-26.50</td>\n      <td>-4.84</td>\n      <td>-76.30</td>\n      <td>-37.84</td>\n      <td>-153.83</td>\n      <td>-136.16</td>\n      <td>38.03</td>\n      <td>100.28</td>\n      <td>-45.64</td>\n      <td>35.58</td>\n    </tr>\n    <tr>\n      <th>5084</th>\n      <td>0</td>\n      <td>273.39</td>\n      <td>278.00</td>\n      <td>261.73</td>\n      <td>236.99</td>\n      <td>280.73</td>\n      <td>264.90</td>\n      <td>252.92</td>\n      <td>254.88</td>\n      <td>237.60</td>\n      <td>...</td>\n      <td>-26.82</td>\n      <td>-53.89</td>\n      <td>-48.71</td>\n      <td>30.99</td>\n      <td>15.96</td>\n      <td>-3.47</td>\n      <td>65.73</td>\n      <td>88.42</td>\n      <td>79.07</td>\n      <td>79.43</td>\n    </tr>\n    <tr>\n      <th>5085</th>\n      <td>0</td>\n      <td>3.82</td>\n      <td>2.09</td>\n      <td>-3.29</td>\n      <td>-2.88</td>\n      <td>1.66</td>\n      <td>-0.75</td>\n      <td>3.85</td>\n      <td>-0.03</td>\n      <td>3.28</td>\n      <td>...</td>\n      <td>10.86</td>\n      <td>-3.23</td>\n      <td>-5.10</td>\n      <td>-4.61</td>\n      <td>-9.82</td>\n      <td>-1.50</td>\n      <td>-4.65</td>\n      <td>-14.55</td>\n      <td>-6.41</td>\n      <td>-2.55</td>\n    </tr>\n    <tr>\n      <th>5086</th>\n      <td>0</td>\n      <td>323.28</td>\n      <td>306.36</td>\n      <td>293.16</td>\n      <td>287.67</td>\n      <td>249.89</td>\n      <td>218.30</td>\n      <td>188.86</td>\n      <td>178.93</td>\n      <td>118.93</td>\n      <td>...</td>\n      <td>71.19</td>\n      <td>0.97</td>\n      <td>55.20</td>\n      <td>-1.63</td>\n      <td>-5.50</td>\n      <td>-25.33</td>\n      <td>-41.31</td>\n      <td>-16.72</td>\n      <td>-14.09</td>\n      <td>27.82</td>\n    </tr>\n  </tbody>\n</table>\n<p>5087 rows × 3198 columns</p>\n</div>"
     },
     "metadata": {},
     "execution_count": 17
    }
   ],
   "source": [
    "classifer.df_train"
   ]
  },
  {
   "cell_type": "code",
   "execution_count": null,
   "metadata": {},
   "outputs": [],
   "source": []
  }
 ]
}